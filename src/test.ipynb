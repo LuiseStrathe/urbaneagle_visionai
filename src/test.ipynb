{
 "cells": [
  {
   "cell_type": "code",
   "execution_count": null,
   "metadata": {
    "collapsed": true,
    "pycharm": {
     "name": "#%%\n"
    }
   },
   "outputs": [],
   "source": [
    "# info about inputs: images and labels\n",
    "path_raw_data = (['../data/raw/tree_detection/Potsdam/',\n",
    "                  '../data/raw/tree_detection/Potsdam/',\n",
    "                  '../data/raw/tree_detection/Potsdam/',\n",
    "                  '../data/raw/tree_detection/Potsdam/',\n",
    "                  '../data/raw/tree_detection/Potsdam/'])\n",
    "path_raw_json = (['../data/raw/tree_detection/Potsdam/Potsdam_01',\n",
    "                  '../data/raw/tree_detection/Potsdam/Potsdam_01',\n",
    "                  '../data/raw/tree_detection/Potsdam/Potsdam_01',\n",
    "                  '../data/raw/tree_detection/Potsdam/Potsdam_01',\n",
    "                  '../data/raw/tree_detection/Potsdam/Potsdam_01'])\n",
    "name_raw_image = (['Potsdam_01',\n",
    "                   'Potsdam_01_aug_01',\n",
    "                   'Potsdam_01_aug_02',\n",
    "                   'Potsdam_01_aug_03',\n",
    "                   'Potsdam_01_aug_04'])\n",
    "## number the relevant image in the labeled data:\n",
    "raw_image_number = ([0, 0, 0, 0, 0])"
   ]
  },
  {
   "cell_type": "code",
   "execution_count": 18,
   "outputs": [
    {
     "data": {
      "text/plain": "['Potsdam_01',\n 'Potsdam_01_aug_01',\n 'Potsdam_01_aug_02',\n 'Potsdam_01_aug_03',\n 'Potsdam_01_aug_04',\n 'Dresden_04',\n 'Dresden_04_aug_01',\n 'Dresden_04_aug_02',\n 'Dresden_04_aug_03',\n 'Dresden_04_aug_04',\n 'Dresden_05',\n 'Dresden_05_aug_01',\n 'Dresden_05_aug_02',\n 'Dresden_05_aug_03',\n 'Dresden_05_aug_04',\n 'Dresden_06',\n 'Dresden_06_aug_01',\n 'Dresden_06_aug_02',\n 'Dresden_06_aug_03',\n 'Dresden_06_aug_04']"
     },
     "execution_count": 18,
     "metadata": {},
     "output_type": "execute_result"
    }
   ],
   "source": [
    "path_inputs = '../data/raw/tree_detection/'\n",
    "num_aug = 4\n",
    "targets = ([\"Potsdam_01\", \"Dresden_04\", \"Dresden_05\", \"Dresden_06\"])\n",
    "\n",
    "path_raw_data = ([])\n",
    "path_raw_json = ([])\n",
    "name_raw_image = ([])\n",
    "\n",
    "for target in targets:\n",
    "    [path_raw_data.append(path_inputs + target[:-3] + '/') for i in range(num_aug+1)]\n",
    "    [path_raw_json.append(path_inputs + target) for i in range(num_aug+1)]\n",
    "    name_raw_image.append(target)\n",
    "    [name_raw_image.append(target + '_aug_0' + str(i+1)) for i in range(num_aug)]\n",
    "\n",
    "name_raw_image\n"
   ],
   "metadata": {
    "collapsed": false,
    "pycharm": {
     "name": "#%%\n"
    }
   }
  },
  {
   "cell_type": "code",
   "execution_count": 15,
   "outputs": [
    {
     "ename": "NameError",
     "evalue": "name 'do' is not defined",
     "output_type": "error",
     "traceback": [
      "\u001B[0;31m---------------------------------------------------------------------------\u001B[0m",
      "\u001B[0;31mNameError\u001B[0m                                 Traceback (most recent call last)",
      "Input \u001B[0;32mIn [15]\u001B[0m, in \u001B[0;36m<cell line: 1>\u001B[0;34m()\u001B[0m\n\u001B[0;32m----> 1\u001B[0m [f() \u001B[38;5;28;01mfor\u001B[39;00m f \u001B[38;5;129;01min\u001B[39;00m [\u001B[43mdo\u001B[49m]\u001B[38;5;241m*\u001B[39m\u001B[38;5;241m10\u001B[39m]\n",
      "\u001B[0;31mNameError\u001B[0m: name 'do' is not defined"
     ]
    }
   ],
   "source": [
    "[f() for f in [do]*10]"
   ],
   "metadata": {
    "collapsed": false,
    "pycharm": {
     "name": "#%%\n"
    }
   }
  }
 ],
 "metadata": {
  "kernelspec": {
   "display_name": "Python 3",
   "language": "python",
   "name": "python3"
  },
  "language_info": {
   "codemirror_mode": {
    "name": "ipython",
    "version": 2
   },
   "file_extension": ".py",
   "mimetype": "text/x-python",
   "name": "python",
   "nbconvert_exporter": "python",
   "pygments_lexer": "ipython2",
   "version": "2.7.6"
  }
 },
 "nbformat": 4,
 "nbformat_minor": 0
}