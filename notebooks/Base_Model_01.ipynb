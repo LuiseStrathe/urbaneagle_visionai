{
 "cells": [
  {
   "cell_type": "markdown",
   "metadata": {
    "pycharm": {
     "name": "#%% md\n"
    }
   },
   "source": [
    "# Trial for own CNN w/ pixel-targeting\n"
   ]
  },
  {
   "cell_type": "code",
   "execution_count": 4,
   "metadata": {
    "pycharm": {
     "name": "#%%\n"
    }
   },
   "outputs": [],
   "source": [
    "import random\n",
    "import numpy as np\n",
    "import pandas as pd\n",
    "\n",
    "import json\n",
    "from PIL import Image\n",
    "import matplotlib.pyplot as plt\n",
    "from tqdm import tqdm as tq\n",
    "import time\n",
    "\n",
    "import tensorflow as tf\n",
    "from keras import models, layers, optimizers, losses, metrics\n",
    "from keras.models import load_model\n",
    "from keras.preprocessing import image\n",
    "from keras.utils import load_img\n",
    "from keras.utils import img_to_array"
   ]
  },
  {
   "cell_type": "markdown",
   "metadata": {
    "tags": [],
    "pycharm": {
     "name": "#%% md\n"
    }
   },
   "source": [
    "-------------------------\n",
    "## Import data\n"
   ]
  },
  {
   "cell_type": "markdown",
   "metadata": {
    "pycharm": {
     "name": "#%% md\n"
    }
   },
   "source": [
    "Loading the Image"
   ]
  },
  {
   "cell_type": "code",
   "execution_count": 2,
   "metadata": {
    "pycharm": {
     "name": "#%%\n"
    }
   },
   "outputs": [
    {
     "ename": "FileNotFoundError",
     "evalue": "[Errno 2] No such file or directory: 'Potsdam02s.jpg'",
     "output_type": "error",
     "traceback": [
      "\u001B[0;31m---------------------------------------------------------------------------\u001B[0m",
      "\u001B[0;31mFileNotFoundError\u001B[0m                         Traceback (most recent call last)",
      "Input \u001B[0;32mIn [2]\u001B[0m, in \u001B[0;36m<cell line: 2>\u001B[0;34m()\u001B[0m\n\u001B[1;32m      1\u001B[0m \u001B[38;5;66;03m# load the image to get its shape\u001B[39;00m\n\u001B[0;32m----> 2\u001B[0m orig_image \u001B[38;5;241m=\u001B[39m \u001B[43mload_img\u001B[49m\u001B[43m(\u001B[49m\u001B[38;5;124;43m'\u001B[39;49m\u001B[38;5;124;43mPotsdam02s.jpg\u001B[39;49m\u001B[38;5;124;43m'\u001B[39;49m\u001B[43m)\u001B[49m\n\u001B[1;32m      3\u001B[0m i_width, i_height \u001B[38;5;241m=\u001B[39m orig_image\u001B[38;5;241m.\u001B[39msize\n\u001B[1;32m      4\u001B[0m \u001B[38;5;66;03m# convert to numpy array\u001B[39;00m\n",
      "File \u001B[0;32m~/Documents/DataScience/Projects/UrbanEagle/urbaneagle_visionai/venv/lib/python3.10/site-packages/keras/utils/image_utils.py:393\u001B[0m, in \u001B[0;36mload_img\u001B[0;34m(path, grayscale, color_mode, target_size, interpolation, keep_aspect_ratio)\u001B[0m\n\u001B[1;32m    391\u001B[0m   \u001B[38;5;28;01mif\u001B[39;00m \u001B[38;5;28misinstance\u001B[39m(path, pathlib\u001B[38;5;241m.\u001B[39mPath):\n\u001B[1;32m    392\u001B[0m     path \u001B[38;5;241m=\u001B[39m \u001B[38;5;28mstr\u001B[39m(path\u001B[38;5;241m.\u001B[39mresolve())\n\u001B[0;32m--> 393\u001B[0m   \u001B[38;5;28;01mwith\u001B[39;00m \u001B[38;5;28;43mopen\u001B[39;49m\u001B[43m(\u001B[49m\u001B[43mpath\u001B[49m\u001B[43m,\u001B[49m\u001B[43m \u001B[49m\u001B[38;5;124;43m'\u001B[39;49m\u001B[38;5;124;43mrb\u001B[39;49m\u001B[38;5;124;43m'\u001B[39;49m\u001B[43m)\u001B[49m \u001B[38;5;28;01mas\u001B[39;00m f:\n\u001B[1;32m    394\u001B[0m     img \u001B[38;5;241m=\u001B[39m pil_image\u001B[38;5;241m.\u001B[39mopen(io\u001B[38;5;241m.\u001B[39mBytesIO(f\u001B[38;5;241m.\u001B[39mread()))\n\u001B[1;32m    395\u001B[0m \u001B[38;5;28;01melse\u001B[39;00m:\n",
      "\u001B[0;31mFileNotFoundError\u001B[0m: [Errno 2] No such file or directory: 'Potsdam02s.jpg'"
     ]
    }
   ],
   "source": [
    "# load the image to get its shape\n",
    "orig_image = load_img('Potsdam02s.jpg')\n",
    "i_width, i_height = orig_image.size\n",
    "# convert to numpy array\n",
    "image = img_to_array(orig_image)\n",
    "# scale pixel values to [0, 1]\n",
    "image = image.astype('float32')\n",
    "image /= 255.0\n",
    "\n",
    "plt.imshow(orig_image)"
   ]
  },
  {
   "cell_type": "markdown",
   "metadata": {
    "pycharm": {
     "name": "#%% md\n"
    }
   },
   "source": [
    "Loading the label-points for the picture from label studio"
   ]
  },
  {
   "cell_type": "code",
   "execution_count": null,
   "metadata": {
    "pycharm": {
     "name": "#%%\n"
    }
   },
   "outputs": [],
   "source": [
    "# load json\n",
    "orig_labels = pd.read_json(r'Potsdam02s_min.json')\n",
    "orig_labels = orig_labels['kp-1']\n",
    "print(\"The following label-sets were uploaded:\")\n",
    "print(orig_labels)\n",
    "\n",
    "# retrieve coordinates of labels\n",
    "labels_x = np.array([])\n",
    "labels_y = np.array([])\n",
    "for part in orig_labels:\n",
    "    for line in part:\n",
    "        labels_x = np.append(labels_x, line[\"x\"])\n",
    "        labels_y = np.append(labels_y, line[\"y\"])\n",
    "        #labels_y.append(line[\"y\"])\n",
    "labels_unscaled = np.vstack((labels_x, labels_y)).transpose()\n",
    "print(f\"There are {labels_unscaled[:,0].shape} labeled trees in the picture\")\n",
    "labels_unscaled.dtype"
   ]
  },
  {
   "cell_type": "code",
   "execution_count": null,
   "metadata": {
    "pycharm": {
     "name": "#%%\n"
    }
   },
   "outputs": [],
   "source": [
    "# scale datapoints to image pixels\n",
    "reshaper = [[(i_width/100), 0], [0,(i_height/100)]]\n",
    "labels = np.mat(labels_unscaled) * np.mat(reshaper)\n",
    "# check label positions\n",
    "histogram_labels = plt.hist(labels, bins=100)"
   ]
  },
  {
   "cell_type": "markdown",
   "metadata": {
    "pycharm": {
     "name": "#%% md\n"
    }
   },
   "source": [
    "Matching Image and labels and show upload result"
   ]
  },
  {
   "cell_type": "code",
   "execution_count": null,
   "metadata": {
    "pycharm": {
     "name": "#%%\n"
    }
   },
   "outputs": [],
   "source": [
    "plt.imshow(image)\n",
    "\n",
    "# plot each labeled tree\n",
    "for dot in labels:\n",
    "    #print(dot[:,1])\n",
    "    plt.plot(dot[:,0], dot[:,1], marker='*', color=\"green\")\n",
    "# show the plot\n",
    "plt.show()"
   ]
  },
  {
   "cell_type": "markdown",
   "metadata": {
    "pycharm": {
     "name": "#%% md\n"
    }
   },
   "source": [
    "-------------------------\n",
    "## Prepare tiles \n",
    "Tiles = child-pictures of image, all together represent the whole image\n",
    "- split the picture into tiles"
   ]
  },
  {
   "cell_type": "code",
   "execution_count": null,
   "outputs": [],
   "source": [
    "# define the tile size\n",
    "tile_size = 30\n",
    "num_horizontal_tiles = i_width // tile_size\n",
    "num_vertical_tiles = i_height // tile_size\n",
    "num_tiles = num_horizontal_tiles * num_vertical_tiles\n",
    "print(f\"There are {num_tiles} tiles at {tile_size}x{tile_size} pixels\")\n",
    "print(f\"There are {num_horizontal_tiles} horizontal tile columns and {num_vertical_tiles} vertical tile rows\")\n",
    "\n",
    "# prepare variables for the tiles\n",
    "image = np.array(image) # input image\n",
    "tiles = np.zeros((num_tiles, tile_size, tile_size, 3)) # all tile images\n",
    "tile = np.zeros((tile_size, tile_size, 3)) # image of tile\n",
    "tile_locations = np.zeros((num_tiles, 3)) # (row, column, label_id)\n",
    "\n",
    "# create tiles\n",
    "for i in tq(range(num_vertical_tiles)):\n",
    "    for j in range(num_horizontal_tiles):\n",
    "        tile_num = i * num_horizontal_tiles + j\n",
    "        # give starting pixels in rows and columns\n",
    "        v_start = i * tile_size\n",
    "        h_start = j * tile_size\n",
    "        # create tile\n",
    "        tile = image[v_start:v_start+tile_size, h_start:h_start+tile_size, :]\n",
    "        # add tile to array\n",
    "        tiles[tile_num] = tile\n",
    "        # store location ot tiles:\n",
    "        tile_locations[tile_num] = (i,j,0)\n",
    "\n",
    "print(f\"Tiles are created: {tiles.shape}.\")"
   ],
   "metadata": {
    "collapsed": false,
    "pycharm": {
     "name": "#%%\n"
    }
   }
  },
  {
   "cell_type": "code",
   "execution_count": null,
   "outputs": [],
   "source": [
    "# Labeling the tiles\n",
    "\n",
    "tile_labels = np.zeros((num_tiles, 1)) # labels for each tile: 0 = no tree, 1 = tree\n",
    "tile_count = np.zeros((num_tiles, 1)) # number of trees in each tile\n",
    "label_count = 0\n",
    "\n",
    "for label in labels:\n",
    "    pos_horizontal = label[:,0] // tile_size -1\n",
    "    pos_vertical = label[:,1] // tile_size -1\n",
    "    tile_num = int(pos_vertical * num_horizontal_tiles + pos_horizontal)\n",
    "    tile_labels[tile_num] = 1\n",
    "    tile_count[tile_num] += 1\n",
    "    tile_locations[tile_num][2]= label_count\n",
    "    label_count += 1\n",
    "\n",
    "print(f\"Labels vector is created: {tile_labels.shape}.\")\n",
    "print(f\"Tiles labeled as with tree: {tile_labels.sum()}\")\n",
    "print(f\"This is {tile_labels.sum()/tile_labels.shape[0]*100}% of the tiles.\")\n",
    "print(f\"Total trees assigned: {tile_count.sum()}.\")"
   ],
   "metadata": {
    "collapsed": false,
    "pycharm": {
     "name": "#%%\n"
    }
   }
  },
  {
   "cell_type": "code",
   "execution_count": null,
   "outputs": [],
   "source": [
    "# show labeled tiles\n",
    "tiles_show = tile_locations[:,2].reshape(num_vertical_tiles, num_horizontal_tiles)\n",
    "tiles_show[tiles_show == 0] = 0\n",
    "tiles_show[tiles_show > 0] = 1\n",
    "plt.imshow(tiles_show)"
   ],
   "metadata": {
    "collapsed": false,
    "pycharm": {
     "name": "#%%\n"
    }
   }
  },
  {
   "cell_type": "markdown",
   "source": [],
   "metadata": {
    "collapsed": false,
    "pycharm": {
     "name": "#%% md\n"
    }
   }
  },
  {
   "cell_type": "code",
   "execution_count": null,
   "outputs": [],
   "source": [
    "# max count tile show\n",
    "print(tile_count.max())\n",
    "plt.hist(tile_count)"
   ],
   "metadata": {
    "collapsed": false,
    "pycharm": {
     "name": "#%%\n"
    }
   }
  },
  {
   "cell_type": "code",
   "execution_count": null,
   "outputs": [],
   "source": [
    "example = random.randint(0, num_tiles-1)\n",
    "print(f\"tile_num is: {example}\")\n",
    "print(f\"column: {example % num_horizontal_tiles} of {num_horizontal_tiles}, row: {example // num_horizontal_tiles} of {num_vertical_tiles}\")\n",
    "print(f\"Tile label: {tile_labels[example]}\")\n",
    "print(f\"Tile tree count: {tile_count[example]}\")\n",
    "plt.imshow(tiles[example])\n",
    "plt.show()"
   ],
   "metadata": {
    "collapsed": false,
    "pycharm": {
     "name": "#%%\n"
    }
   }
  },
  {
   "cell_type": "markdown",
   "source": [
    "## Prepare training and validation set"
   ],
   "metadata": {
    "collapsed": false,
    "pycharm": {
     "name": "#%% md\n"
    }
   }
  },
  {
   "cell_type": "code",
   "execution_count": null,
   "outputs": [],
   "source": [
    "# split the tiles into training and validation set\n",
    "train_split = 0.8\n",
    "\n",
    "train_tiles = tiles[:int(num_tiles*train_split)]\n",
    "train_labels = tile_labels[:int(num_tiles*train_split)]\n",
    "val_tiles = tiles[int(num_tiles*train_split):]\n",
    "val_labels = tile_labels[int(num_tiles*train_split):]\n",
    "print(f\"Training set: {train_tiles.shape} - ({train_split} share of all tiles)\")\n",
    "print(f\"Validation set: {val_tiles.shape}\")"
   ],
   "metadata": {
    "collapsed": false,
    "pycharm": {
     "name": "#%%\n"
    }
   }
  },
  {
   "cell_type": "code",
   "execution_count": null,
   "outputs": [],
   "source": [
    "# build tensorflow dataset\n",
    "dataset_train_original = tf.data.Dataset.from_tensor_slices((train_tiles, train_labels))\n",
    "dataset_validate_original = tf.data.Dataset.from_tensor_slices((val_tiles, val_labels))"
   ],
   "metadata": {
    "collapsed": false,
    "pycharm": {
     "name": "#%%\n"
    }
   }
  },
  {
   "cell_type": "code",
   "execution_count": null,
   "outputs": [],
   "source": [
    "def encode(tile, label):\n",
    "    image_encoded = tf.image.convert_image_dtype(tile, dtype=tf.float32)\n",
    "    image_encoded = tf.image.resize(image_encoded, (tile_size, tile_size))\n",
    "    return image_encoded, label\n",
    "\n",
    "batch_size = 32\n",
    "dataset_train = dataset_train_original.map(lambda image, label: encode(image, label)).cache().shuffle(25).batch(batch_size)\n",
    "dataset_validate = dataset_validate_original.map(lambda image, label: encode(image, label)).cache().batch(batch_size)"
   ],
   "metadata": {
    "collapsed": false,
    "pycharm": {
     "name": "#%%\n"
    }
   }
  },
  {
   "cell_type": "markdown",
   "source": [
    "-------\n",
    "# Training\n",
    "----\n"
   ],
   "metadata": {
    "collapsed": false,
    "pycharm": {
     "name": "#%% md\n"
    }
   }
  },
  {
   "cell_type": "markdown",
   "source": [
    "\n",
    "## model\n"
   ],
   "metadata": {
    "collapsed": false,
    "pycharm": {
     "name": "#%% md\n"
    }
   }
  },
  {
   "cell_type": "code",
   "execution_count": null,
   "outputs": [],
   "source": [
    "model = models.Sequential()\n",
    "initializer = tf.keras.initializers.GlorotUniform(seed=42)\n",
    "model.add(layers.Input(shape=(tile_size, tile_size, 3)))\n",
    "\n",
    "model.add(layers.Conv2D(20, (3,3), activation=\"relu\", padding=\"same\"))\n",
    "model.add(layers.ZeroPadding2D(padding=(2,2), data_format=None))\n",
    "\n",
    "model.add(layers.MaxPooling2D((2,2)))\n",
    "model.add(layers.Conv2D(30, (3,3), activation=\"relu\", padding=\"same\"))\n",
    "model.add(layers.ZeroPadding2D(padding=(1, 1), data_format=None))\n",
    "\n",
    "model.add(layers.Flatten())\n",
    "model.add(layers.Dense(5, activation=\"relu\"))\n",
    "model.add(layers.Dense(1, activation=\"sigmoid\", kernel_initializer=initializer))\n",
    "\n",
    "model.summary()"
   ],
   "metadata": {
    "collapsed": false,
    "pycharm": {
     "name": "#%%\n"
    }
   }
  },
  {
   "cell_type": "markdown",
   "source": [
    "## Train a model"
   ],
   "metadata": {
    "collapsed": false,
    "pycharm": {
     "name": "#%% md\n"
    }
   }
  },
  {
   "cell_type": "code",
   "execution_count": null,
   "outputs": [],
   "source": [
    "model_name = \"02\"\n",
    "epochs = 20\n",
    "\n",
    "model.compile(\n",
    "    loss=tf.keras.losses.BinaryCrossentropy(from_logits=True),\n",
    "    optimizer=\"adam\",\n",
    "    metrics=[tf.keras.metrics.BinaryAccuracy()],\n",
    ")\n",
    "history = model.fit(\n",
    "    dataset_train,\n",
    "    epochs=epochs,\n",
    "    validation_data=dataset_validate,\n",
    ")"
   ],
   "metadata": {
    "collapsed": false,
    "pycharm": {
     "name": "#%%\n"
    }
   }
  },
  {
   "cell_type": "code",
   "execution_count": null,
   "outputs": [],
   "source": [
    "def render_history(history):\n",
    "    plt.plot(history[\"loss\"], label=\"loss\")\n",
    "    plt.plot(history[\"val_loss\"], label=\"val_loss\")\n",
    "    plt.legend()\n",
    "    plt.title(\"Our losses\")\n",
    "    plt.show()\n",
    "    plt.close()\n",
    "\n",
    "    plt.plot(history[\"binary_accuracy\"], label=\"accuracy\")\n",
    "    plt.plot(history[\"val_binary_accuracy\"], label=\"val_accuracy\")\n",
    "    plt.legend()\n",
    "    plt.title(\"Our accuracies\")\n",
    "    plt.show()\n",
    "    plt.close()\n",
    "\n",
    "\n",
    "def compare_histories():\n",
    "    for training_name, history in history_list.items():\n",
    "        plt.plot(history[\"val_binary_accuracy\"], label=training_name)\n",
    "    plt.legend()\n",
    "    plt.title(\"Comparison of val_accuracy\")\n",
    "    plt.show()\n",
    "    plt.close()\n",
    "\n",
    "history_list = {}\n",
    "history_list[model_name] = history.history\n",
    "render_history(history.history)\n",
    "compare_histories()\n",
    "tf.keras.backend.clear_session()"
   ],
   "metadata": {
    "collapsed": false,
    "pycharm": {
     "name": "#%%\n"
    }
   }
  },
  {
   "cell_type": "markdown",
   "source": [
    "-------------------------\n",
    "## Predict\n"
   ],
   "metadata": {
    "collapsed": false,
    "pycharm": {
     "name": "#%% md\n"
    }
   }
  },
  {
   "cell_type": "code",
   "execution_count": null,
   "outputs": [],
   "source": [
    "# predict\n",
    "predictions = model.predict(tiles)\n",
    "predictions.shape"
   ],
   "metadata": {
    "collapsed": false,
    "pycharm": {
     "name": "#%%\n"
    }
   }
  },
  {
   "cell_type": "code",
   "execution_count": null,
   "outputs": [],
   "source": [
    "# Results of the self-prediction:\n",
    "threshold = 0.3\n",
    "\n",
    "predictions = [1 if x > threshold else 0 for x in predictions]\n",
    "#count true predictions\n",
    "true_predictions = [1 if x == y else 0 for x, y in zip(predictions, tile_labels)]\n",
    "true_predictions_count = sum(true_predictions)\n",
    "\n",
    "print(f\"Predictions: {true_predictions_count} out of {len(predictions)} labels are identified as trees.\")\n",
    "# show labeled tiles\n",
    "tiles_show = predictions.reshape(num_vertical_tiles, num_horizontal_tiles)\n",
    "plt.imshow(tiles_show)"
   ],
   "metadata": {
    "collapsed": false,
    "pycharm": {
     "name": "#%%\n"
    }
   }
  },
  {
   "cell_type": "markdown",
   "source": [
    "-------------------------\n",
    "## Save predictions\n"
   ],
   "metadata": {
    "collapsed": false,
    "pycharm": {
     "name": "#%% md\n"
    }
   }
  },
  {
   "cell_type": "code",
   "execution_count": null,
   "outputs": [],
   "source": [
    "# save predictions\n",
    "np.savetxt('predictions_own_cnn_pixel_targeting_25tiles.txt', predictions)"
   ],
   "metadata": {
    "collapsed": false,
    "pycharm": {
     "name": "#%%\n"
    }
   }
  }
 ],
 "metadata": {
  "interpreter": {
   "hash": "e4790212a22aedfed1c324fc258ffd5870552cb034a225463b056158dc8c8dbe"
  },
  "kernelspec": {
   "display_name": "Python 3 (ipykernel)",
   "language": "python",
   "name": "python3"
  },
  "language_info": {
   "codemirror_mode": {
    "name": "ipython",
    "version": 3
   },
   "file_extension": ".py",
   "mimetype": "text/x-python",
   "name": "python",
   "nbconvert_exporter": "python",
   "pygments_lexer": "ipython3",
   "version": "3.10.4"
  }
 },
 "nbformat": 4,
 "nbformat_minor": 4
}